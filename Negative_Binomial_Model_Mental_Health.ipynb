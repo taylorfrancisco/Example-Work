{
  "cells": [
    {
      "cell_type": "markdown",
      "metadata": {
        "id": "view-in-github",
        "colab_type": "text"
      },
      "source": [
        "<a href=\"https://colab.research.google.com/github/taylorfrancisco/Example-Work/blob/main/Negative_Binomial_Model_Mental_Health.ipynb\" target=\"_parent\"><img src=\"https://colab.research.google.com/assets/colab-badge.svg\" alt=\"Open In Colab\"/></a>"
      ]
    },
    {
      "cell_type": "markdown",
      "metadata": {
        "id": "NlGteX9qMeRp"
      },
      "source": [
        "# Set Up"
      ]
    },
    {
      "cell_type": "code",
      "execution_count": null,
      "metadata": {
        "id": "ruHqfLhyfTsF"
      },
      "outputs": [],
      "source": [
        "from __future__ import division\n",
        "import pandas as pd\n",
        "import numpy as np\n",
        "import seaborn as sns\n",
        "import matplotlib.pyplot as plt\n",
        "%matplotlib inline\n",
        "import statsmodels.api as sm\n",
        "import statsmodels.formula.api as smf\n",
        "from statsmodels.compat import lzip\n",
        "import scipy as sp"
      ]
    },
    {
      "cell_type": "code",
      "execution_count": null,
      "metadata": {
        "colab": {
          "base_uri": "https://localhost:8080/",
          "height": 411
        },
        "id": "ebznyMmEeMvn",
        "outputId": "963d6acb-8fdd-4fbf-af25-6f9d01919de8"
      },
      "outputs": [
        {
          "output_type": "display_data",
          "data": {
            "text/plain": [
              "<IPython.core.display.HTML object>"
            ],
            "text/html": [
              "\n",
              "     <input type=\"file\" id=\"files-21c7e931-4f34-4467-a28d-8d36a2c1f909\" name=\"files[]\" multiple disabled\n",
              "        style=\"border:none\" />\n",
              "     <output id=\"result-21c7e931-4f34-4467-a28d-8d36a2c1f909\">\n",
              "      Upload widget is only available when the cell has been executed in the\n",
              "      current browser session. Please rerun this cell to enable.\n",
              "      </output>\n",
              "      <script>// Copyright 2017 Google LLC\n",
              "//\n",
              "// Licensed under the Apache License, Version 2.0 (the \"License\");\n",
              "// you may not use this file except in compliance with the License.\n",
              "// You may obtain a copy of the License at\n",
              "//\n",
              "//      http://www.apache.org/licenses/LICENSE-2.0\n",
              "//\n",
              "// Unless required by applicable law or agreed to in writing, software\n",
              "// distributed under the License is distributed on an \"AS IS\" BASIS,\n",
              "// WITHOUT WARRANTIES OR CONDITIONS OF ANY KIND, either express or implied.\n",
              "// See the License for the specific language governing permissions and\n",
              "// limitations under the License.\n",
              "\n",
              "/**\n",
              " * @fileoverview Helpers for google.colab Python module.\n",
              " */\n",
              "(function(scope) {\n",
              "function span(text, styleAttributes = {}) {\n",
              "  const element = document.createElement('span');\n",
              "  element.textContent = text;\n",
              "  for (const key of Object.keys(styleAttributes)) {\n",
              "    element.style[key] = styleAttributes[key];\n",
              "  }\n",
              "  return element;\n",
              "}\n",
              "\n",
              "// Max number of bytes which will be uploaded at a time.\n",
              "const MAX_PAYLOAD_SIZE = 100 * 1024;\n",
              "\n",
              "function _uploadFiles(inputId, outputId) {\n",
              "  const steps = uploadFilesStep(inputId, outputId);\n",
              "  const outputElement = document.getElementById(outputId);\n",
              "  // Cache steps on the outputElement to make it available for the next call\n",
              "  // to uploadFilesContinue from Python.\n",
              "  outputElement.steps = steps;\n",
              "\n",
              "  return _uploadFilesContinue(outputId);\n",
              "}\n",
              "\n",
              "// This is roughly an async generator (not supported in the browser yet),\n",
              "// where there are multiple asynchronous steps and the Python side is going\n",
              "// to poll for completion of each step.\n",
              "// This uses a Promise to block the python side on completion of each step,\n",
              "// then passes the result of the previous step as the input to the next step.\n",
              "function _uploadFilesContinue(outputId) {\n",
              "  const outputElement = document.getElementById(outputId);\n",
              "  const steps = outputElement.steps;\n",
              "\n",
              "  const next = steps.next(outputElement.lastPromiseValue);\n",
              "  return Promise.resolve(next.value.promise).then((value) => {\n",
              "    // Cache the last promise value to make it available to the next\n",
              "    // step of the generator.\n",
              "    outputElement.lastPromiseValue = value;\n",
              "    return next.value.response;\n",
              "  });\n",
              "}\n",
              "\n",
              "/**\n",
              " * Generator function which is called between each async step of the upload\n",
              " * process.\n",
              " * @param {string} inputId Element ID of the input file picker element.\n",
              " * @param {string} outputId Element ID of the output display.\n",
              " * @return {!Iterable<!Object>} Iterable of next steps.\n",
              " */\n",
              "function* uploadFilesStep(inputId, outputId) {\n",
              "  const inputElement = document.getElementById(inputId);\n",
              "  inputElement.disabled = false;\n",
              "\n",
              "  const outputElement = document.getElementById(outputId);\n",
              "  outputElement.innerHTML = '';\n",
              "\n",
              "  const pickedPromise = new Promise((resolve) => {\n",
              "    inputElement.addEventListener('change', (e) => {\n",
              "      resolve(e.target.files);\n",
              "    });\n",
              "  });\n",
              "\n",
              "  const cancel = document.createElement('button');\n",
              "  inputElement.parentElement.appendChild(cancel);\n",
              "  cancel.textContent = 'Cancel upload';\n",
              "  const cancelPromise = new Promise((resolve) => {\n",
              "    cancel.onclick = () => {\n",
              "      resolve(null);\n",
              "    };\n",
              "  });\n",
              "\n",
              "  // Wait for the user to pick the files.\n",
              "  const files = yield {\n",
              "    promise: Promise.race([pickedPromise, cancelPromise]),\n",
              "    response: {\n",
              "      action: 'starting',\n",
              "    }\n",
              "  };\n",
              "\n",
              "  cancel.remove();\n",
              "\n",
              "  // Disable the input element since further picks are not allowed.\n",
              "  inputElement.disabled = true;\n",
              "\n",
              "  if (!files) {\n",
              "    return {\n",
              "      response: {\n",
              "        action: 'complete',\n",
              "      }\n",
              "    };\n",
              "  }\n",
              "\n",
              "  for (const file of files) {\n",
              "    const li = document.createElement('li');\n",
              "    li.append(span(file.name, {fontWeight: 'bold'}));\n",
              "    li.append(span(\n",
              "        `(${file.type || 'n/a'}) - ${file.size} bytes, ` +\n",
              "        `last modified: ${\n",
              "            file.lastModifiedDate ? file.lastModifiedDate.toLocaleDateString() :\n",
              "                                    'n/a'} - `));\n",
              "    const percent = span('0% done');\n",
              "    li.appendChild(percent);\n",
              "\n",
              "    outputElement.appendChild(li);\n",
              "\n",
              "    const fileDataPromise = new Promise((resolve) => {\n",
              "      const reader = new FileReader();\n",
              "      reader.onload = (e) => {\n",
              "        resolve(e.target.result);\n",
              "      };\n",
              "      reader.readAsArrayBuffer(file);\n",
              "    });\n",
              "    // Wait for the data to be ready.\n",
              "    let fileData = yield {\n",
              "      promise: fileDataPromise,\n",
              "      response: {\n",
              "        action: 'continue',\n",
              "      }\n",
              "    };\n",
              "\n",
              "    // Use a chunked sending to avoid message size limits. See b/62115660.\n",
              "    let position = 0;\n",
              "    do {\n",
              "      const length = Math.min(fileData.byteLength - position, MAX_PAYLOAD_SIZE);\n",
              "      const chunk = new Uint8Array(fileData, position, length);\n",
              "      position += length;\n",
              "\n",
              "      const base64 = btoa(String.fromCharCode.apply(null, chunk));\n",
              "      yield {\n",
              "        response: {\n",
              "          action: 'append',\n",
              "          file: file.name,\n",
              "          data: base64,\n",
              "        },\n",
              "      };\n",
              "\n",
              "      let percentDone = fileData.byteLength === 0 ?\n",
              "          100 :\n",
              "          Math.round((position / fileData.byteLength) * 100);\n",
              "      percent.textContent = `${percentDone}% done`;\n",
              "\n",
              "    } while (position < fileData.byteLength);\n",
              "  }\n",
              "\n",
              "  // All done.\n",
              "  yield {\n",
              "    response: {\n",
              "      action: 'complete',\n",
              "    }\n",
              "  };\n",
              "}\n",
              "\n",
              "scope.google = scope.google || {};\n",
              "scope.google.colab = scope.google.colab || {};\n",
              "scope.google.colab._files = {\n",
              "  _uploadFiles,\n",
              "  _uploadFilesContinue,\n",
              "};\n",
              "})(self);\n",
              "</script> "
            ]
          },
          "metadata": {}
        },
        {
          "output_type": "error",
          "ename": "KeyboardInterrupt",
          "evalue": "ignored",
          "traceback": [
            "\u001b[0;31m---------------------------------------------------------------------------\u001b[0m",
            "\u001b[0;31mKeyboardInterrupt\u001b[0m                         Traceback (most recent call last)",
            "\u001b[0;32m<ipython-input-2-f815a5aef667>\u001b[0m in \u001b[0;36m<cell line: 3>\u001b[0;34m()\u001b[0m\n\u001b[1;32m      1\u001b[0m \u001b[0;31m# upload data\u001b[0m\u001b[0;34m\u001b[0m\u001b[0;34m\u001b[0m\u001b[0m\n\u001b[1;32m      2\u001b[0m \u001b[0;32mfrom\u001b[0m \u001b[0mgoogle\u001b[0m\u001b[0;34m.\u001b[0m\u001b[0mcolab\u001b[0m \u001b[0;32mimport\u001b[0m \u001b[0mfiles\u001b[0m\u001b[0;34m\u001b[0m\u001b[0;34m\u001b[0m\u001b[0m\n\u001b[0;32m----> 3\u001b[0;31m \u001b[0muploaded\u001b[0m\u001b[0;34m=\u001b[0m \u001b[0mfiles\u001b[0m\u001b[0;34m.\u001b[0m\u001b[0mupload\u001b[0m\u001b[0;34m(\u001b[0m\u001b[0;34m)\u001b[0m\u001b[0;34m\u001b[0m\u001b[0;34m\u001b[0m\u001b[0m\n\u001b[0m\u001b[1;32m      4\u001b[0m \u001b[0;32mimport\u001b[0m \u001b[0mio\u001b[0m\u001b[0;34m\u001b[0m\u001b[0;34m\u001b[0m\u001b[0m\n\u001b[1;32m      5\u001b[0m \u001b[0md\u001b[0m \u001b[0;34m=\u001b[0m \u001b[0mpd\u001b[0m\u001b[0;34m.\u001b[0m\u001b[0mread_csv\u001b[0m\u001b[0;34m(\u001b[0m\u001b[0mio\u001b[0m\u001b[0;34m.\u001b[0m\u001b[0mBytesIO\u001b[0m\u001b[0;34m(\u001b[0m\u001b[0muploaded\u001b[0m\u001b[0;34m[\u001b[0m\u001b[0;34m'GSS.2006 (1).csv'\u001b[0m\u001b[0;34m]\u001b[0m\u001b[0;34m)\u001b[0m\u001b[0;34m)\u001b[0m\u001b[0;34m\u001b[0m\u001b[0;34m\u001b[0m\u001b[0m\n",
            "\u001b[0;32m/usr/local/lib/python3.10/dist-packages/google/colab/files.py\u001b[0m in \u001b[0;36mupload\u001b[0;34m()\u001b[0m\n\u001b[1;32m     67\u001b[0m   \"\"\"\n\u001b[1;32m     68\u001b[0m \u001b[0;34m\u001b[0m\u001b[0m\n\u001b[0;32m---> 69\u001b[0;31m   \u001b[0muploaded_files\u001b[0m \u001b[0;34m=\u001b[0m \u001b[0m_upload_files\u001b[0m\u001b[0;34m(\u001b[0m\u001b[0mmultiple\u001b[0m\u001b[0;34m=\u001b[0m\u001b[0;32mTrue\u001b[0m\u001b[0;34m)\u001b[0m\u001b[0;34m\u001b[0m\u001b[0;34m\u001b[0m\u001b[0m\n\u001b[0m\u001b[1;32m     70\u001b[0m   \u001b[0;31m# Mapping from original filename to filename as saved locally.\u001b[0m\u001b[0;34m\u001b[0m\u001b[0;34m\u001b[0m\u001b[0m\n\u001b[1;32m     71\u001b[0m   \u001b[0mlocal_filenames\u001b[0m \u001b[0;34m=\u001b[0m \u001b[0mdict\u001b[0m\u001b[0;34m(\u001b[0m\u001b[0;34m)\u001b[0m\u001b[0;34m\u001b[0m\u001b[0;34m\u001b[0m\u001b[0m\n",
            "\u001b[0;32m/usr/local/lib/python3.10/dist-packages/google/colab/files.py\u001b[0m in \u001b[0;36m_upload_files\u001b[0;34m(multiple)\u001b[0m\n\u001b[1;32m    154\u001b[0m \u001b[0;34m\u001b[0m\u001b[0m\n\u001b[1;32m    155\u001b[0m   \u001b[0;31m# First result is always an indication that the file picker has completed.\u001b[0m\u001b[0;34m\u001b[0m\u001b[0;34m\u001b[0m\u001b[0m\n\u001b[0;32m--> 156\u001b[0;31m   result = _output.eval_js(\n\u001b[0m\u001b[1;32m    157\u001b[0m       'google.colab._files._uploadFiles(\"{input_id}\", \"{output_id}\")'.format(\n\u001b[1;32m    158\u001b[0m           \u001b[0minput_id\u001b[0m\u001b[0;34m=\u001b[0m\u001b[0minput_id\u001b[0m\u001b[0;34m,\u001b[0m \u001b[0moutput_id\u001b[0m\u001b[0;34m=\u001b[0m\u001b[0moutput_id\u001b[0m\u001b[0;34m\u001b[0m\u001b[0;34m\u001b[0m\u001b[0m\n",
            "\u001b[0;32m/usr/local/lib/python3.10/dist-packages/google/colab/output/_js.py\u001b[0m in \u001b[0;36meval_js\u001b[0;34m(script, ignore_result, timeout_sec)\u001b[0m\n\u001b[1;32m     38\u001b[0m   \u001b[0;32mif\u001b[0m \u001b[0mignore_result\u001b[0m\u001b[0;34m:\u001b[0m\u001b[0;34m\u001b[0m\u001b[0;34m\u001b[0m\u001b[0m\n\u001b[1;32m     39\u001b[0m     \u001b[0;32mreturn\u001b[0m\u001b[0;34m\u001b[0m\u001b[0;34m\u001b[0m\u001b[0m\n\u001b[0;32m---> 40\u001b[0;31m   \u001b[0;32mreturn\u001b[0m \u001b[0m_message\u001b[0m\u001b[0;34m.\u001b[0m\u001b[0mread_reply_from_input\u001b[0m\u001b[0;34m(\u001b[0m\u001b[0mrequest_id\u001b[0m\u001b[0;34m,\u001b[0m \u001b[0mtimeout_sec\u001b[0m\u001b[0;34m)\u001b[0m\u001b[0;34m\u001b[0m\u001b[0;34m\u001b[0m\u001b[0m\n\u001b[0m\u001b[1;32m     41\u001b[0m \u001b[0;34m\u001b[0m\u001b[0m\n\u001b[1;32m     42\u001b[0m \u001b[0;34m\u001b[0m\u001b[0m\n",
            "\u001b[0;32m/usr/local/lib/python3.10/dist-packages/google/colab/_message.py\u001b[0m in \u001b[0;36mread_reply_from_input\u001b[0;34m(message_id, timeout_sec)\u001b[0m\n\u001b[1;32m     94\u001b[0m     \u001b[0mreply\u001b[0m \u001b[0;34m=\u001b[0m \u001b[0m_read_next_input_message\u001b[0m\u001b[0;34m(\u001b[0m\u001b[0;34m)\u001b[0m\u001b[0;34m\u001b[0m\u001b[0;34m\u001b[0m\u001b[0m\n\u001b[1;32m     95\u001b[0m     \u001b[0;32mif\u001b[0m \u001b[0mreply\u001b[0m \u001b[0;34m==\u001b[0m \u001b[0m_NOT_READY\u001b[0m \u001b[0;32mor\u001b[0m \u001b[0;32mnot\u001b[0m \u001b[0misinstance\u001b[0m\u001b[0;34m(\u001b[0m\u001b[0mreply\u001b[0m\u001b[0;34m,\u001b[0m \u001b[0mdict\u001b[0m\u001b[0;34m)\u001b[0m\u001b[0;34m:\u001b[0m\u001b[0;34m\u001b[0m\u001b[0;34m\u001b[0m\u001b[0m\n\u001b[0;32m---> 96\u001b[0;31m       \u001b[0mtime\u001b[0m\u001b[0;34m.\u001b[0m\u001b[0msleep\u001b[0m\u001b[0;34m(\u001b[0m\u001b[0;36m0.025\u001b[0m\u001b[0;34m)\u001b[0m\u001b[0;34m\u001b[0m\u001b[0;34m\u001b[0m\u001b[0m\n\u001b[0m\u001b[1;32m     97\u001b[0m       \u001b[0;32mcontinue\u001b[0m\u001b[0;34m\u001b[0m\u001b[0;34m\u001b[0m\u001b[0m\n\u001b[1;32m     98\u001b[0m     if (\n",
            "\u001b[0;31mKeyboardInterrupt\u001b[0m: "
          ]
        }
      ],
      "source": [
        "# upload data\n",
        "from google.colab import files\n",
        "uploaded= files.upload()\n",
        "import io\n",
        "d = pd.read_csv(io.BytesIO(uploaded['GSS.2006 (1).csv']))"
      ]
    },
    {
      "cell_type": "markdown",
      "metadata": {
        "id": "bT3HiuS9MpFp"
      },
      "source": [
        "# Variables"
      ]
    },
    {
      "cell_type": "markdown",
      "metadata": {
        "id": "DkiolLguUJdJ"
      },
      "source": [
        "For my dependent variable I will explore mental health using the mntlhlth variable. This variable comes from the following question: Now thinking about your mental health, which includes stress, depression, and problems with emotions, for how many days during the past 30 days was your mental health not good?\n",
        "\n",
        "I will also note I am only using data from 2006.\n",
        "\n",
        "\n",
        "As this is a count variable, a Poisson regression is the appropriate regression type to use."
      ]
    },
    {
      "cell_type": "code",
      "execution_count": null,
      "metadata": {
        "colab": {
          "base_uri": "https://localhost:8080/"
        },
        "id": "KL5jSmW2wYiV",
        "outputId": "710ae61f-4929-4f8d-c94a-00e9b79cea33"
      },
      "outputs": [
        {
          "data": {
            "text/plain": [
              "count    1717.000000\n",
              "mean        3.000000\n",
              "std         6.681656\n",
              "min         0.000000\n",
              "25%         0.000000\n",
              "50%         0.000000\n",
              "75%         3.000000\n",
              "max        30.000000\n",
              "Name: mntlhlth, dtype: float64"
            ]
          },
          "execution_count": 3,
          "metadata": {},
          "output_type": "execute_result"
        }
      ],
      "source": [
        "d.mntlhlth.describe()"
      ]
    },
    {
      "cell_type": "code",
      "execution_count": null,
      "metadata": {
        "colab": {
          "base_uri": "https://localhost:8080/",
          "height": 284
        },
        "id": "BwCP6DT3weVK",
        "outputId": "07a2a5fb-a502-48da-97b6-3052e2427e9d"
      },
      "outputs": [
        {
          "data": {
            "text/plain": [
              "<matplotlib.axes._subplots.AxesSubplot at 0x7fa2fe772640>"
            ]
          },
          "execution_count": 4,
          "metadata": {},
          "output_type": "execute_result"
        },
        {
          "data": {
            "image/png": "[encoded data removed]",
            "text/plain": [
              "<Figure size 432x288 with 1 Axes>"
            ]
          },
          "metadata": {},
          "output_type": "display_data"
        }
      ],
      "source": [
        "d.mntlhlth.hist(bins=15, density=True)"
      ]
    },
    {
      "cell_type": "code",
      "execution_count": null,
      "metadata": {
        "colab": {
          "base_uri": "https://localhost:8080/"
        },
        "id": "agL49cErwx86",
        "outputId": "7e9239d8-92b3-4dbd-b0d3-bec209ca9824"
      },
      "outputs": [
        {
          "data": {
            "text/plain": [
              "44.64452214452214"
            ]
          },
          "execution_count": 5,
          "metadata": {},
          "output_type": "execute_result"
        }
      ],
      "source": [
        "d.mntlhlth.var()"
      ]
    },
    {
      "cell_type": "markdown",
      "metadata": {
        "id": "Sim12zw0VKjT"
      },
      "source": [
        "The mean (3) is not equal to the variance (45), which suggess that a normal Poisson regression is not ideal,a negative binomial is more appropriate. Additionally, from the histogram, it appears that there is a large amount of \"zero\" responses, which suggests that a zero-inflated negative binomial would be most appropriate to use."
      ]
    },
    {
      "cell_type": "code",
      "execution_count": null,
      "metadata": {
        "id": "P8ZwqgygWWlt"
      },
      "outputs": [],
      "source": [
        "variables = ['mntlhlth', 'realinc','socfrend', 'sex']\n",
        "#recode to make more interpretable\n",
        "d = d[variables].copy()\n",
        "d['socfrend'] = 7 - d.socfrend\n",
        "d['inc10k'] = d.realinc/10000\n",
        "d_noNA = d.dropna()\n"
      ]
    },
    {
      "cell_type": "markdown",
      "metadata": {
        "id": "xnPczbGgfJ96"
      },
      "source": [
        "  The independent variables I will explore are income and frequency of time spent with friends. I am mainly interested in how frequency of time spent with friends impacts mental health, particularly in light of the pandemic where socializing was drastically decreased and we saw a lot of mental health issues increase. As such, I hypothesize that the more frequently a person spends time with friends, the fewer days of poor mental health they will have.\n",
        "  \n",
        "  I will include real income as a control variable as the effects of income on mental health are well known (the more money you have the less financial stress you have to endure, generally allowing for better mental health). I suspect that the more money a person makes the fewer poor mental health days they would experience.\n",
        "\n",
        "  I will lastly include sex of the respondent as another variable to act as a control, as there may be sex differences in mental health. Particularly women are more likely to be depressed and thus may have more poor mental health days.\n",
        "\n",
        "\n",
        "\n"
      ]
    },
    {
      "cell_type": "markdown",
      "metadata": {
        "id": "kBvRSt0bqUR3"
      },
      "source": [
        "The friend variable I am using is socfrend which comes from the following question:\n",
        "\n",
        "  Would you use this card and tell me which answer\n",
        "  comes closest to how often you do the following\n",
        "  things…\n",
        "  C. Spend a social evening with friends who live\n",
        "  outside the neighborhood?\n",
        "\n",
        "Which had the following possible responses.\n",
        "      -100\t.i: Inapplicable\n",
        "      -99\t.n: No answer\n",
        "      -98\t.d: Do not Know/Cannot Choose\n",
        "      -97\t.s: Skipped on Web\n",
        "      1\tALMOST DAILY\n",
        "      2\tSEV TIMES A WEEK\n",
        "      3\tSEV TIMES A MNTH\n",
        "      4\tONCE A MONTH\n",
        "      5\tSEV TIMES A YEAR\n",
        "      6\tONCE A YEAR\n",
        "      7\tNEVER\n"
      ]
    },
    {
      "cell_type": "markdown",
      "metadata": {
        "id": "BK95cR5qqZkz"
      },
      "source": [
        "  To make this variable easier to interpret, I recoded it to be 1 as being never and 7 as being almost daily so an increase in number corresponds with the increase of time spent with friends.\n",
        "\n",
        "  I will also exclude the various non-answers (-97 to -100) in my models by subsetting the data.\n",
        "\n",
        "  Additionally, to make income more interpretable I recoded it to be inc10k so it is for every increase in 10 thousand dollars instead of increase in 1 dollar."
      ]
    },
    {
      "cell_type": "markdown",
      "metadata": {
        "id": "bVjIIkXyMyUc"
      },
      "source": [
        "# OLS"
      ]
    },
    {
      "cell_type": "code",
      "execution_count": null,
      "metadata": {
        "colab": {
          "base_uri": "https://localhost:8080/",
          "height": 494
        },
        "id": "V2ISHS7rj012",
        "outputId": "196702c6-505d-4a97-940d-746fd8895b09"
      },
      "outputs": [
        {
          "data": {
            "text/html": [
              "<table class=\"simpletable\">\n",
              "<caption>OLS Regression Results</caption>\n",
              "<tr>\n",
              "  <th>Dep. Variable:</th>        <td>mntlhlth</td>     <th>  R-squared:         </th> <td>   0.022</td>\n",
              "</tr>\n",
              "<tr>\n",
              "  <th>Model:</th>                   <td>OLS</td>       <th>  Adj. R-squared:    </th> <td>   0.019</td>\n",
              "</tr>\n",
              "<tr>\n",
              "  <th>Method:</th>             <td>Least Squares</td>  <th>  F-statistic:       </th> <td>   7.424</td>\n",
              "</tr>\n",
              "<tr>\n",
              "  <th>Date:</th>             <td>Wed, 22 Feb 2023</td> <th>  Prob (F-statistic):</th> <td>6.41e-05</td>\n",
              "</tr>\n",
              "<tr>\n",
              "  <th>Time:</th>                 <td>20:44:21</td>     <th>  Log-Likelihood:    </th> <td> -3300.6</td>\n",
              "</tr>\n",
              "<tr>\n",
              "  <th>No. Observations:</th>      <td>  1007</td>      <th>  AIC:               </th> <td>   6609.</td>\n",
              "</tr>\n",
              "<tr>\n",
              "  <th>Df Residuals:</th>          <td>  1003</td>      <th>  BIC:               </th> <td>   6629.</td>\n",
              "</tr>\n",
              "<tr>\n",
              "  <th>Df Model:</th>              <td>     3</td>      <th>                     </th>     <td> </td>   \n",
              "</tr>\n",
              "<tr>\n",
              "  <th>Covariance Type:</th>      <td>nonrobust</td>    <th>                     </th>     <td> </td>   \n",
              "</tr>\n",
              "</table>\n",
              "<table class=\"simpletable\">\n",
              "<tr>\n",
              "       <td></td>          <th>coef</th>     <th>std err</th>      <th>t</th>      <th>P>|t|</th>  <th>[0.025</th>    <th>0.975]</th>  \n",
              "</tr>\n",
              "<tr>\n",
              "  <th>Intercept</th>   <td>    2.6786</td> <td>    0.620</td> <td>    4.318</td> <td> 0.000</td> <td>    1.461</td> <td>    3.896</td>\n",
              "</tr>\n",
              "<tr>\n",
              "  <th>C(sex)[T.2]</th> <td>    0.4604</td> <td>    0.408</td> <td>    1.128</td> <td> 0.260</td> <td>   -0.340</td> <td>    1.261</td>\n",
              "</tr>\n",
              "<tr>\n",
              "  <th>inc10k</th>      <td>   -0.2488</td> <td>    0.062</td> <td>   -3.982</td> <td> 0.000</td> <td>   -0.371</td> <td>   -0.126</td>\n",
              "</tr>\n",
              "<tr>\n",
              "  <th>socfrend</th>    <td>    0.2672</td> <td>    0.131</td> <td>    2.033</td> <td> 0.042</td> <td>    0.009</td> <td>    0.525</td>\n",
              "</tr>\n",
              "</table>\n",
              "<table class=\"simpletable\">\n",
              "<tr>\n",
              "  <th>Omnibus:</th>       <td>612.244</td> <th>  Durbin-Watson:     </th> <td>   1.999</td>\n",
              "</tr>\n",
              "<tr>\n",
              "  <th>Prob(Omnibus):</th> <td> 0.000</td>  <th>  Jarque-Bera (JB):  </th> <td>4186.364</td>\n",
              "</tr>\n",
              "<tr>\n",
              "  <th>Skew:</th>          <td> 2.873</td>  <th>  Prob(JB):          </th> <td>    0.00</td>\n",
              "</tr>\n",
              "<tr>\n",
              "  <th>Kurtosis:</th>      <td>11.171</td>  <th>  Cond. No.          </th> <td>    19.8</td>\n",
              "</tr>\n",
              "</table><br/><br/>Notes:<br/>[1] Standard Errors assume that the covariance matrix of the errors is correctly specified."
            ],
            "text/plain": [
              "<class 'statsmodels.iolib.summary.Summary'>\n",
              "\"\"\"\n",
              "                            OLS Regression Results                            \n",
              "==============================================================================\n",
              "Dep. Variable:               mntlhlth   R-squared:                       0.022\n",
              "Model:                            OLS   Adj. R-squared:                  0.019\n",
              "Method:                 Least Squares   F-statistic:                     7.424\n",
              "Date:                Wed, 22 Feb 2023   Prob (F-statistic):           6.41e-05\n",
              "Time:                        20:44:21   Log-Likelihood:                -3300.6\n",
              "No. Observations:                1007   AIC:                             6609.\n",
              "Df Residuals:                    1003   BIC:                             6629.\n",
              "Df Model:                           3                                         \n",
              "Covariance Type:            nonrobust                                         \n",
              "===============================================================================\n",
              "                  coef    std err          t      P>|t|      [0.025      0.975]\n",
              "-------------------------------------------------------------------------------\n",
              "Intercept       2.6786      0.620      4.318      0.000       1.461       3.896\n",
              "C(sex)[T.2]     0.4604      0.408      1.128      0.260      -0.340       1.261\n",
              "inc10k         -0.2488      0.062     -3.982      0.000      -0.371      -0.126\n",
              "socfrend        0.2672      0.131      2.033      0.042       0.009       0.525\n",
              "==============================================================================\n",
              "Omnibus:                      612.244   Durbin-Watson:                   1.999\n",
              "Prob(Omnibus):                  0.000   Jarque-Bera (JB):             4186.364\n",
              "Skew:                           2.873   Prob(JB):                         0.00\n",
              "Kurtosis:                      11.171   Cond. No.                         19.8\n",
              "==============================================================================\n",
              "\n",
              "Notes:\n",
              "[1] Standard Errors assume that the covariance matrix of the errors is correctly specified.\n",
              "\"\"\""
            ]
          },
          "execution_count": 51,
          "metadata": {},
          "output_type": "execute_result"
        }
      ],
      "source": [
        "from statsmodels.regression.linear_model  import OLS\n",
        "m1 = OLS.from_formula('mntlhlth ~ inc10k + socfrend + C(sex)', data =d, subset=d.socfrend>0).fit()\n",
        "m1.summary()"
      ]
    },
    {
      "cell_type": "code",
      "execution_count": null,
      "metadata": {
        "colab": {
          "base_uri": "https://localhost:8080/"
        },
        "id": "dAIJbk-wnYC_",
        "outputId": "6bd97d92-75d0-4ccf-ec57-d894a3876e0e"
      },
      "outputs": [
        {
          "data": {
            "text/plain": [
              "count    1721.000000\n",
              "mean        3.155762\n",
              "std         0.979095\n",
              "min        -0.649254\n",
              "25%         2.718843\n",
              "50%         3.284597\n",
              "75%         3.771407\n",
              "max         5.002692\n",
              "dtype: float64"
            ]
          },
          "execution_count": 53,
          "metadata": {},
          "output_type": "execute_result"
        }
      ],
      "source": [
        "m1.predict(d[['inc10k', 'socfrend', 'sex']]).describe()"
      ]
    },
    {
      "cell_type": "markdown",
      "metadata": {
        "id": "hnIqIzE7qf0U"
      },
      "source": [
        "As expected, the OLS is not appropriate as it gave negative predicted values, which do not make sense given the variable mntlhealth is a count that can only go from 0-30. Additionally, it only predicts a maximum of 5 days of poor mental health where there was a large skew above 5 days in the dataset, indicating that there could be a model that would give more accurate predictions.\n",
        "\n",
        "The value of r and adjusted r-squared are also very low at 0.019 and 0.017 respectively, which suggests it may not be a very good predictive model\n",
        "\n",
        "\n"
      ]
    },
    {
      "cell_type": "markdown",
      "metadata": {
        "id": "YSRglXedM1TL"
      },
      "source": [
        "# Poisson"
      ]
    },
    {
      "cell_type": "code",
      "execution_count": null,
      "metadata": {
        "colab": {
          "base_uri": "https://localhost:8080/",
          "height": 348
        },
        "id": "_SbM7iKbrYAy",
        "outputId": "fac56dc8-3fd0-4a83-c88c-56c865e14352"
      },
      "outputs": [
        {
          "name": "stdout",
          "output_type": "stream",
          "text": [
            "Optimization terminated successfully.\n",
            "         Current function value: 4.783848\n",
            "         Iterations 6\n"
          ]
        },
        {
          "data": {
            "text/html": [
              "<table class=\"simpletable\">\n",
              "<caption>Poisson Regression Results</caption>\n",
              "<tr>\n",
              "  <th>Dep. Variable:</th>       <td>mntlhlth</td>     <th>  No. Observations:  </th>  <td>  1007</td>  \n",
              "</tr>\n",
              "<tr>\n",
              "  <th>Model:</th>                <td>Poisson</td>     <th>  Df Residuals:      </th>  <td>  1003</td>  \n",
              "</tr>\n",
              "<tr>\n",
              "  <th>Method:</th>                 <td>MLE</td>       <th>  Df Model:          </th>  <td>     3</td>  \n",
              "</tr>\n",
              "<tr>\n",
              "  <th>Date:</th>            <td>Wed, 22 Feb 2023</td> <th>  Pseudo R-squ.:     </th>  <td>0.03653</td> \n",
              "</tr>\n",
              "<tr>\n",
              "  <th>Time:</th>                <td>20:44:59</td>     <th>  Log-Likelihood:    </th> <td> -4817.3</td> \n",
              "</tr>\n",
              "<tr>\n",
              "  <th>converged:</th>             <td>True</td>       <th>  LL-Null:           </th> <td> -5000.0</td> \n",
              "</tr>\n",
              "<tr>\n",
              "  <th>Covariance Type:</th>     <td>nonrobust</td>    <th>  LLR p-value:       </th> <td>7.254e-79</td>\n",
              "</tr>\n",
              "</table>\n",
              "<table class=\"simpletable\">\n",
              "<tr>\n",
              "       <td></td>          <th>coef</th>     <th>std err</th>      <th>z</th>      <th>P>|z|</th>  <th>[0.025</th>    <th>0.975]</th>  \n",
              "</tr>\n",
              "<tr>\n",
              "  <th>Intercept</th>   <td>    1.0800</td> <td>    0.058</td> <td>   18.561</td> <td> 0.000</td> <td>    0.966</td> <td>    1.194</td>\n",
              "</tr>\n",
              "<tr>\n",
              "  <th>C(sex)[T.2]</th> <td>    0.1502</td> <td>    0.037</td> <td>    4.034</td> <td> 0.000</td> <td>    0.077</td> <td>    0.223</td>\n",
              "</tr>\n",
              "<tr>\n",
              "  <th>inc10k</th>      <td>   -0.1190</td> <td>    0.008</td> <td>  -14.843</td> <td> 0.000</td> <td>   -0.135</td> <td>   -0.103</td>\n",
              "</tr>\n",
              "<tr>\n",
              "  <th>socfrend</th>    <td>    0.0836</td> <td>    0.011</td> <td>    7.391</td> <td> 0.000</td> <td>    0.061</td> <td>    0.106</td>\n",
              "</tr>\n",
              "</table>"
            ],
            "text/plain": [
              "<class 'statsmodels.iolib.summary.Summary'>\n",
              "\"\"\"\n",
              "                          Poisson Regression Results                          \n",
              "==============================================================================\n",
              "Dep. Variable:               mntlhlth   No. Observations:                 1007\n",
              "Model:                        Poisson   Df Residuals:                     1003\n",
              "Method:                           MLE   Df Model:                            3\n",
              "Date:                Wed, 22 Feb 2023   Pseudo R-squ.:                 0.03653\n",
              "Time:                        20:44:59   Log-Likelihood:                -4817.3\n",
              "converged:                       True   LL-Null:                       -5000.0\n",
              "Covariance Type:            nonrobust   LLR p-value:                 7.254e-79\n",
              "===============================================================================\n",
              "                  coef    std err          z      P>|z|      [0.025      0.975]\n",
              "-------------------------------------------------------------------------------\n",
              "Intercept       1.0800      0.058     18.561      0.000       0.966       1.194\n",
              "C(sex)[T.2]     0.1502      0.037      4.034      0.000       0.077       0.223\n",
              "inc10k         -0.1190      0.008    -14.843      0.000      -0.135      -0.103\n",
              "socfrend        0.0836      0.011      7.391      0.000       0.061       0.106\n",
              "===============================================================================\n",
              "\"\"\""
            ]
          },
          "execution_count": 54,
          "metadata": {},
          "output_type": "execute_result"
        }
      ],
      "source": [
        "m2 = smf.poisson('mntlhlth ~ inc10k + socfrend + C(sex)', data =d, subset=d.socfrend>0).fit()\n",
        "m2.summary()"
      ]
    },
    {
      "cell_type": "markdown",
      "metadata": {
        "id": "CtGMoOK-4f2G"
      },
      "source": [
        "According to this model, with every increase in frequency of time spent with friends, is a 0.08 higher expected log-count of days with poor mental health, net of other factors. This is a significant increase, but is not what I would have expected.\n",
        "\n",
        "For every 10,000 dollar increase in income, there is a 0.1190 lower expected log-count of days spent with poor mental health. This is also significant and aligns with my previous hypothesis.\n",
        "\n",
        "Females compared to males have a 0.1502 higher expected log-count of days with more mental health, net all other factors. This aligns with my earlier hypothesis and is a significant increase.\n",
        "\n",
        "However, this does not address the overdispersion of the dependent variable. As such, a negative binomial should be run instead."
      ]
    },
    {
      "cell_type": "markdown",
      "metadata": {
        "id": "Cq6ePlXRM48T"
      },
      "source": [
        "# Negative Binomial"
      ]
    },
    {
      "cell_type": "code",
      "execution_count": null,
      "metadata": {
        "colab": {
          "base_uri": "https://localhost:8080/",
          "height": 405
        },
        "id": "UUfKRiDduFBp",
        "outputId": "ba5944bd-a284-44ab-e7c2-babaf07d8afe"
      },
      "outputs": [
        {
          "name": "stdout",
          "output_type": "stream",
          "text": [
            "Optimization terminated successfully.\n",
            "         Current function value: 1.760224\n",
            "         Iterations: 14\n",
            "         Function evaluations: 21\n",
            "         Gradient evaluations: 21\n"
          ]
        },
        {
          "data": {
            "text/html": [
              "<table class=\"simpletable\">\n",
              "<caption>NegativeBinomial Regression Results</caption>\n",
              "<tr>\n",
              "  <th>Dep. Variable:</th>       <td>mntlhlth</td>     <th>  No. Observations:  </th>  <td>  1007</td>  \n",
              "</tr>\n",
              "<tr>\n",
              "  <th>Model:</th>           <td>NegativeBinomial</td> <th>  Df Residuals:      </th>  <td>  1003</td>  \n",
              "</tr>\n",
              "<tr>\n",
              "  <th>Method:</th>                 <td>MLE</td>       <th>  Df Model:          </th>  <td>     3</td>  \n",
              "</tr>\n",
              "<tr>\n",
              "  <th>Date:</th>            <td>Wed, 22 Feb 2023</td> <th>  Pseudo R-squ.:     </th> <td>0.004917</td> \n",
              "</tr>\n",
              "<tr>\n",
              "  <th>Time:</th>                <td>20:45:07</td>     <th>  Log-Likelihood:    </th> <td> -1772.5</td> \n",
              "</tr>\n",
              "<tr>\n",
              "  <th>converged:</th>             <td>True</td>       <th>  LL-Null:           </th> <td> -1781.3</td> \n",
              "</tr>\n",
              "<tr>\n",
              "  <th>Covariance Type:</th>     <td>nonrobust</td>    <th>  LLR p-value:       </th> <td>0.0005528</td>\n",
              "</tr>\n",
              "</table>\n",
              "<table class=\"simpletable\">\n",
              "<tr>\n",
              "       <td></td>          <th>coef</th>     <th>std err</th>      <th>z</th>      <th>P>|z|</th>  <th>[0.025</th>    <th>0.975]</th>  \n",
              "</tr>\n",
              "<tr>\n",
              "  <th>Intercept</th>   <td>    0.9747</td> <td>    0.237</td> <td>    4.109</td> <td> 0.000</td> <td>    0.510</td> <td>    1.440</td>\n",
              "</tr>\n",
              "<tr>\n",
              "  <th>C(sex)[T.2]</th> <td>    0.1486</td> <td>    0.162</td> <td>    0.919</td> <td> 0.358</td> <td>   -0.168</td> <td>    0.465</td>\n",
              "</tr>\n",
              "<tr>\n",
              "  <th>inc10k</th>      <td>   -0.0875</td> <td>    0.022</td> <td>   -3.937</td> <td> 0.000</td> <td>   -0.131</td> <td>   -0.044</td>\n",
              "</tr>\n",
              "<tr>\n",
              "  <th>socfrend</th>    <td>    0.0836</td> <td>    0.052</td> <td>    1.621</td> <td> 0.105</td> <td>   -0.018</td> <td>    0.185</td>\n",
              "</tr>\n",
              "<tr>\n",
              "  <th>alpha</th>       <td>    6.0533</td> <td>    0.406</td> <td>   14.926</td> <td> 0.000</td> <td>    5.258</td> <td>    6.848</td>\n",
              "</tr>\n",
              "</table>"
            ],
            "text/plain": [
              "<class 'statsmodels.iolib.summary.Summary'>\n",
              "\"\"\"\n",
              "                     NegativeBinomial Regression Results                      \n",
              "==============================================================================\n",
              "Dep. Variable:               mntlhlth   No. Observations:                 1007\n",
              "Model:               NegativeBinomial   Df Residuals:                     1003\n",
              "Method:                           MLE   Df Model:                            3\n",
              "Date:                Wed, 22 Feb 2023   Pseudo R-squ.:                0.004917\n",
              "Time:                        20:45:07   Log-Likelihood:                -1772.5\n",
              "converged:                       True   LL-Null:                       -1781.3\n",
              "Covariance Type:            nonrobust   LLR p-value:                 0.0005528\n",
              "===============================================================================\n",
              "                  coef    std err          z      P>|z|      [0.025      0.975]\n",
              "-------------------------------------------------------------------------------\n",
              "Intercept       0.9747      0.237      4.109      0.000       0.510       1.440\n",
              "C(sex)[T.2]     0.1486      0.162      0.919      0.358      -0.168       0.465\n",
              "inc10k         -0.0875      0.022     -3.937      0.000      -0.131      -0.044\n",
              "socfrend        0.0836      0.052      1.621      0.105      -0.018       0.185\n",
              "alpha           6.0533      0.406     14.926      0.000       5.258       6.848\n",
              "===============================================================================\n",
              "\"\"\""
            ]
          },
          "execution_count": 55,
          "metadata": {},
          "output_type": "execute_result"
        }
      ],
      "source": [
        "from statsmodels.discrete.discrete_model import NegativeBinomial\n",
        "nb1 = NegativeBinomial.from_formula('mntlhlth ~ inc10k + socfrend + C(sex)', data =d, subset=d.socfrend>0).fit()\n",
        "nb1.summary()"
      ]
    },
    {
      "cell_type": "markdown",
      "metadata": {
        "id": "yQnqCDPHH55l"
      },
      "source": [
        "As the alpha parameter is statistically significant, this suggest that the Poisson was not the most appropriate model, and we are correct in using the negative binomial model instead."
      ]
    },
    {
      "cell_type": "markdown",
      "metadata": {
        "id": "T6D8KX7nVi7I"
      },
      "source": [
        "According to this model, with every increase in frequency of time spent with friends, is a 0.0836 higher expected log-count of days with poor mental health, net of other factors. This is no longer a significant increase however.\n",
        "\n",
        "For every 10,000 dollar increase in income, there is a 0.0875\tlower expected log-count of days spent with poor mental health. This is significant and aligns with my previous hypothesis.\n",
        "\n",
        "Females compared to males have a 0.1486 higher expected log-count of days with more mental health, net all other factors, though this is not a significant difference.\n",
        "\n",
        "Both sex and time spent with friends were not significant, which is counter to what I previously assumed."
      ]
    },
    {
      "cell_type": "code",
      "execution_count": null,
      "metadata": {
        "colab": {
          "base_uri": "https://localhost:8080/"
        },
        "id": "Ii8lzbmKHEEf",
        "outputId": "b6f55908-7ce3-48eb-8c68-49da242e168b"
      },
      "outputs": [
        {
          "data": {
            "text/plain": [
              "Intercept      2.688801\n",
              "C(sex)[T.2]    1.163486\n",
              "inc10k         0.909371\n",
              "socfrend       1.089861\n",
              "dtype: float64"
            ]
          },
          "execution_count": 60,
          "metadata": {},
          "output_type": "execute_result"
        }
      ],
      "source": [
        "np.exp(nb1.params)"
      ]
    },
    {
      "cell_type": "markdown",
      "metadata": {
        "id": "KqHoxw1MXKr2"
      },
      "source": [
        "Another way to interpret this model is to look at the incident rate ratios above.\n",
        "\n",
        "Females have an incident rate ratio (for poor mental health days) that is approximately 1.2 times higher, net of frequency of time spent with friends and income.\n",
        "\n",
        "With every increase in 10,000 dollars of income, the incident rate ratio is approximately 0.9 times higher, net of all other factors.\n",
        "\n",
        "With every marginal increase in frequency of time spent with friends, the incident rate ratio is approximately 1.1 times higher, net of all other factors.\n",
        "\n"
      ]
    },
    {
      "cell_type": "markdown",
      "metadata": {
        "id": "wcKPM-6vM-qa"
      },
      "source": [
        "# Zero-inflated Negative Binomial"
      ]
    },
    {
      "cell_type": "code",
      "execution_count": null,
      "metadata": {
        "colab": {
          "base_uri": "https://localhost:8080/",
          "height": 337
        },
        "id": "dhOUB6qIu4q1",
        "outputId": "b2c6e6b2-1ed6-45fc-c1cc-7e3b81fda47e"
      },
      "outputs": [
        {
          "data": {
            "text/html": [
              "<table class=\"simpletable\">\n",
              "<caption>Generalized Linear Model Regression Results</caption>\n",
              "<tr>\n",
              "  <th>Dep. Variable:</th>       <td>mntlhlth</td>     <th>  No. Observations:  </th>  <td>  1007</td> \n",
              "</tr>\n",
              "<tr>\n",
              "  <th>Model:</th>                  <td>GLM</td>       <th>  Df Residuals:      </th>  <td>  1003</td> \n",
              "</tr>\n",
              "<tr>\n",
              "  <th>Model Family:</th>    <td>NegativeBinomial</td> <th>  Df Model:          </th>  <td>     3</td> \n",
              "</tr>\n",
              "<tr>\n",
              "  <th>Link Function:</th>          <td>log</td>       <th>  Scale:             </th> <td>  1.0000</td>\n",
              "</tr>\n",
              "<tr>\n",
              "  <th>Method:</th>                <td>IRLS</td>       <th>  Log-Likelihood:    </th> <td> -2204.6</td>\n",
              "</tr>\n",
              "<tr>\n",
              "  <th>Date:</th>            <td>Wed, 22 Feb 2023</td> <th>  Deviance:          </th> <td>  2406.7</td>\n",
              "</tr>\n",
              "<tr>\n",
              "  <th>Time:</th>                <td>22:05:51</td>     <th>  Pearson chi2:      </th> <td>3.61e+03</td>\n",
              "</tr>\n",
              "<tr>\n",
              "  <th>No. Iterations:</th>          <td>9</td>        <th>                     </th>     <td> </td>   \n",
              "</tr>\n",
              "<tr>\n",
              "  <th>Covariance Type:</th>     <td>nonrobust</td>    <th>                     </th>     <td> </td>   \n",
              "</tr>\n",
              "</table>\n",
              "<table class=\"simpletable\">\n",
              "<tr>\n",
              "       <td></td>          <th>coef</th>     <th>std err</th>      <th>z</th>      <th>P>|z|</th>  <th>[0.025</th>    <th>0.975]</th>  \n",
              "</tr>\n",
              "<tr>\n",
              "  <th>Intercept</th>   <td>    0.9891</td> <td>    0.114</td> <td>    8.685</td> <td> 0.000</td> <td>    0.766</td> <td>    1.212</td>\n",
              "</tr>\n",
              "<tr>\n",
              "  <th>C(sex)[T.2]</th> <td>    0.1514</td> <td>    0.074</td> <td>    2.039</td> <td> 0.041</td> <td>    0.006</td> <td>    0.297</td>\n",
              "</tr>\n",
              "<tr>\n",
              "  <th>inc10k</th>      <td>   -0.0950</td> <td>    0.013</td> <td>   -7.492</td> <td> 0.000</td> <td>   -0.120</td> <td>   -0.070</td>\n",
              "</tr>\n",
              "<tr>\n",
              "  <th>socfrend</th>    <td>    0.0860</td> <td>    0.024</td> <td>    3.639</td> <td> 0.000</td> <td>    0.040</td> <td>    0.132</td>\n",
              "</tr>\n",
              "</table>"
            ],
            "text/plain": [
              "<class 'statsmodels.iolib.summary.Summary'>\n",
              "\"\"\"\n",
              "                 Generalized Linear Model Regression Results                  \n",
              "==============================================================================\n",
              "Dep. Variable:               mntlhlth   No. Observations:                 1007\n",
              "Model:                            GLM   Df Residuals:                     1003\n",
              "Model Family:        NegativeBinomial   Df Model:                            3\n",
              "Link Function:                    log   Scale:                          1.0000\n",
              "Method:                          IRLS   Log-Likelihood:                -2204.6\n",
              "Date:                Wed, 22 Feb 2023   Deviance:                       2406.7\n",
              "Time:                        22:05:51   Pearson chi2:                 3.61e+03\n",
              "No. Iterations:                     9                                         \n",
              "Covariance Type:            nonrobust                                         \n",
              "===============================================================================\n",
              "                  coef    std err          z      P>|z|      [0.025      0.975]\n",
              "-------------------------------------------------------------------------------\n",
              "Intercept       0.9891      0.114      8.685      0.000       0.766       1.212\n",
              "C(sex)[T.2]     0.1514      0.074      2.039      0.041       0.006       0.297\n",
              "inc10k         -0.0950      0.013     -7.492      0.000      -0.120      -0.070\n",
              "socfrend        0.0860      0.024      3.639      0.000       0.040       0.132\n",
              "===============================================================================\n",
              "\"\"\""
            ]
          },
          "execution_count": 61,
          "metadata": {},
          "output_type": "execute_result"
        }
      ],
      "source": [
        "znb1 = nb1 = sm.GLM.from_formula('mntlhlth ~ inc10k + socfrend + C(sex)', data =d, subset=d.socfrend>0, family=sm.families.NegativeBinomial()).fit()\n",
        "znb1.summary()"
      ]
    },
    {
      "cell_type": "markdown",
      "metadata": {
        "id": "bI49-PmUZanG"
      },
      "source": [
        "According to this model, with every increase in frequency of time spent with friends, is a \t0.0860 higher expected log-count of days with poor mental health, net of other factors. This is now significant again in this model, which aligns with my hypothesis.\n",
        "\n",
        "For every 10,000 dollar increase in income, there is a 0.0950\tlower expected log-count of days spent with poor mental health. This is significant and aligns with my previous hypothesis.\n",
        "\n",
        "Females compared to males have a 0.1514 higher expected log-count of days with more mental health, net all other factors. This is also significant and aligns with my previous assumptions.  \n"
      ]
    },
    {
      "cell_type": "markdown",
      "metadata": {
        "id": "wfajHNRSRy3B"
      },
      "source": [
        "# Comparing Models\n"
      ]
    },
    {
      "cell_type": "code",
      "execution_count": null,
      "metadata": {
        "id": "6gqZ4lwNKkoY"
      },
      "outputs": [],
      "source": [
        "def augment(fit, data, y):\n",
        "    df = data.copy()\n",
        "    df['fitted']  = fit.fittedvalues\n",
        "    df['absdiff']  = np.abs(df.fitted - df[y])\n",
        "    return df\n",
        "data = d[['mntlhlth', 'inc10k', 'socfrend', 'sex']].copy()\n",
        "data = data[data.socfrend>0]\n",
        "a = augment(m1, data, 'mntlhlth')\n",
        "b = augment(m2, data, 'mntlhlth')\n",
        "c = augment(nb1, data, 'mntlhlth')\n",
        "d = augment(znb1, data, 'mntlhlth')"
      ]
    },
    {
      "cell_type": "code",
      "execution_count": null,
      "metadata": {
        "colab": {
          "base_uri": "https://localhost:8080/",
          "height": 300
        },
        "id": "rK85jnA7K6uc",
        "outputId": "95d7a439-5e3e-4d56-940b-bfcdd7ed8288"
      },
      "outputs": [
        {
          "data": {
            "text/html": [
              "\n",
              "  <div id=\"df-7c0fbfb0-a118-41e1-915e-fe399467d175\">\n",
              "    <div class=\"colab-df-container\">\n",
              "      <div>\n",
              "<style scoped>\n",
              "    .dataframe tbody tr th:only-of-type {\n",
              "        vertical-align: middle;\n",
              "    }\n",
              "\n",
              "    .dataframe tbody tr th {\n",
              "        vertical-align: top;\n",
              "    }\n",
              "\n",
              "    .dataframe thead th {\n",
              "        text-align: right;\n",
              "    }\n",
              "</style>\n",
              "<table border=\"1\" class=\"dataframe\">\n",
              "  <thead>\n",
              "    <tr style=\"text-align: right;\">\n",
              "      <th></th>\n",
              "      <th>OLS</th>\n",
              "      <th>Poisson</th>\n",
              "      <th>Negative binomial</th>\n",
              "      <th>Zero-inflated NB</th>\n",
              "    </tr>\n",
              "  </thead>\n",
              "  <tbody>\n",
              "    <tr>\n",
              "      <th>count</th>\n",
              "      <td>1007.000000</td>\n",
              "      <td>1007.000000</td>\n",
              "      <td>1007.000000</td>\n",
              "      <td>1007.000000</td>\n",
              "    </tr>\n",
              "    <tr>\n",
              "      <th>mean</th>\n",
              "      <td>3.972498</td>\n",
              "      <td>3.200709</td>\n",
              "      <td>3.944721</td>\n",
              "      <td>3.944721</td>\n",
              "    </tr>\n",
              "    <tr>\n",
              "      <th>std</th>\n",
              "      <td>5.040007</td>\n",
              "      <td>5.915379</td>\n",
              "      <td>5.044245</td>\n",
              "      <td>5.044245</td>\n",
              "    </tr>\n",
              "    <tr>\n",
              "      <th>min</th>\n",
              "      <td>0.015604</td>\n",
              "      <td>0.024472</td>\n",
              "      <td>0.028221</td>\n",
              "      <td>0.028221</td>\n",
              "    </tr>\n",
              "    <tr>\n",
              "      <th>25%</th>\n",
              "      <td>1.886836</td>\n",
              "      <td>0.874289</td>\n",
              "      <td>1.881954</td>\n",
              "      <td>1.881954</td>\n",
              "    </tr>\n",
              "    <tr>\n",
              "      <th>50%</th>\n",
              "      <td>2.843877</td>\n",
              "      <td>1.137268</td>\n",
              "      <td>2.729740</td>\n",
              "      <td>2.729740</td>\n",
              "    </tr>\n",
              "    <tr>\n",
              "      <th>75%</th>\n",
              "      <td>3.571564</td>\n",
              "      <td>1.722337</td>\n",
              "      <td>3.490840</td>\n",
              "      <td>3.490840</td>\n",
              "    </tr>\n",
              "    <tr>\n",
              "      <th>max</th>\n",
              "      <td>27.423365</td>\n",
              "      <td>29.111711</td>\n",
              "      <td>27.495331</td>\n",
              "      <td>27.495331</td>\n",
              "    </tr>\n",
              "  </tbody>\n",
              "</table>\n",
              "</div>\n",
              "      <button class=\"colab-df-convert\" onclick=\"convertToInteractive('df-7c0fbfb0-a118-41e1-915e-fe399467d175')\"\n",
              "              title=\"Convert this dataframe to an interactive table.\"\n",
              "              style=\"display:none;\">\n",
              "        \n",
              "  <svg xmlns=\"http://www.w3.org/2000/svg\" height=\"24px\"viewBox=\"0 0 24 24\"\n",
              "       width=\"24px\">\n",
              "    <path d=\"M0 0h24v24H0V0z\" fill=\"none\"/>\n",
              "    <path d=\"M18.56 5.44l.94 2.06.94-2.06 2.06-.94-2.06-.94-.94-2.06-.94 2.06-2.06.94zm-11 1L8.5 8.5l.94-2.06 2.06-.94-2.06-.94L8.5 2.5l-.94 2.06-2.06.94zm10 10l.94 2.06.94-2.06 2.06-.94-2.06-.94-.94-2.06-.94 2.06-2.06.94z\"/><path d=\"M17.41 7.96l-1.37-1.37c-.4-.4-.92-.59-1.43-.59-.52 0-1.04.2-1.43.59L10.3 9.45l-7.72 7.72c-.78.78-.78 2.05 0 2.83L4 21.41c.39.39.9.59 1.41.59.51 0 1.02-.2 1.41-.59l7.78-7.78 2.81-2.81c.8-.78.8-2.07 0-2.86zM5.41 20L4 18.59l7.72-7.72 1.47 1.35L5.41 20z\"/>\n",
              "  </svg>\n",
              "      </button>\n",
              "      \n",
              "  <style>\n",
              "    .colab-df-container {\n",
              "      display:flex;\n",
              "      flex-wrap:wrap;\n",
              "      gap: 12px;\n",
              "    }\n",
              "\n",
              "    .colab-df-convert {\n",
              "      background-color: #E8F0FE;\n",
              "      border: none;\n",
              "      border-radius: 50%;\n",
              "      cursor: pointer;\n",
              "      display: none;\n",
              "      fill: #1967D2;\n",
              "      height: 32px;\n",
              "      padding: 0 0 0 0;\n",
              "      width: 32px;\n",
              "    }\n",
              "\n",
              "    .colab-df-convert:hover {\n",
              "      background-color: #E2EBFA;\n",
              "      box-shadow: 0px 1px 2px rgba(60, 64, 67, 0.3), 0px 1px 3px 1px rgba(60, 64, 67, 0.15);\n",
              "      fill: #174EA6;\n",
              "    }\n",
              "\n",
              "    [theme=dark] .colab-df-convert {\n",
              "      background-color: #3B4455;\n",
              "      fill: #D2E3FC;\n",
              "    }\n",
              "\n",
              "    [theme=dark] .colab-df-convert:hover {\n",
              "      background-color: #434B5C;\n",
              "      box-shadow: 0px 1px 3px 1px rgba(0, 0, 0, 0.15);\n",
              "      filter: drop-shadow(0px 1px 2px rgba(0, 0, 0, 0.3));\n",
              "      fill: #FFFFFF;\n",
              "    }\n",
              "  </style>\n",
              "\n",
              "      <script>\n",
              "        const buttonEl =\n",
              "          document.querySelector('#df-7c0fbfb0-a118-41e1-915e-fe399467d175 button.colab-df-convert');\n",
              "        buttonEl.style.display =\n",
              "          google.colab.kernel.accessAllowed ? 'block' : 'none';\n",
              "\n",
              "        async function convertToInteractive(key) {\n",
              "          const element = document.querySelector('#df-7c0fbfb0-a118-41e1-915e-fe399467d175');\n",
              "          const dataTable =\n",
              "            await google.colab.kernel.invokeFunction('convertToInteractive',\n",
              "                                                     [key], {});\n",
              "          if (!dataTable) return;\n",
              "\n",
              "          const docLinkHtml = 'Like what you see? Visit the ' +\n",
              "            '<a target=\"_blank\" href=https://colab.research.google.com/notebooks/data_table.ipynb>data table notebook</a>'\n",
              "            + ' to learn more about interactive tables.';\n",
              "          element.innerHTML = '';\n",
              "          dataTable['output_type'] = 'display_data';\n",
              "          await google.colab.output.renderOutput(dataTable, element);\n",
              "          const docLink = document.createElement('div');\n",
              "          docLink.innerHTML = docLinkHtml;\n",
              "          element.appendChild(docLink);\n",
              "        }\n",
              "      </script>\n",
              "    </div>\n",
              "  </div>\n",
              "  "
            ],
            "text/plain": [
              "               OLS      Poisson  Negative binomial  Zero-inflated NB\n",
              "count  1007.000000  1007.000000        1007.000000       1007.000000\n",
              "mean      3.972498     3.200709           3.944721          3.944721\n",
              "std       5.040007     5.915379           5.044245          5.044245\n",
              "min       0.015604     0.024472           0.028221          0.028221\n",
              "25%       1.886836     0.874289           1.881954          1.881954\n",
              "50%       2.843877     1.137268           2.729740          2.729740\n",
              "75%       3.571564     1.722337           3.490840          3.490840\n",
              "max      27.423365    29.111711          27.495331         27.495331"
            ]
          },
          "execution_count": 69,
          "metadata": {},
          "output_type": "execute_result"
        }
      ],
      "source": [
        "pd.concat({'OLS': a.absdiff.describe(), 'Poisson': b.absdiff.describe(),\n",
        "           'Negative binomial': c.absdiff.describe(),\n",
        "           'Zero-inflated NB': d.absdiff.describe()}, axis=1)"
      ]
    },
    {
      "cell_type": "markdown",
      "metadata": {
        "id": "50ghuI-3OgqG"
      },
      "source": [
        "The average absolute deviations are\n",
        "lowest for Poisson, and much more behaved at the 3rd\n",
        "quartile of deviations, which again suggests that Poisson is the right route to go. However, as discussed above the alpha value suggests that the negative binomial model is the better model considering the over-dispersed nature of the dependent variable.\n",
        "\n",
        "Additionally, since the negative binomial and the zero-inflated negative binomial have the same absolute deviations, this suggest that the zero-inflated negative binomial is not giving any additional information from the negative binomial. This suggests that the negative binomial is the best predictive model."
      ]
    },
    {
      "cell_type": "markdown",
      "metadata": {
        "id": "YNZ5u-afNEEG"
      },
      "source": [
        "# Predicted Values"
      ]
    },
    {
      "cell_type": "code",
      "execution_count": null,
      "metadata": {
        "colab": {
          "base_uri": "https://localhost:8080/"
        },
        "id": "N5uktBcnunn3",
        "outputId": "353eaeb6-fdb1-4399-c87a-df6561d6cc03"
      },
      "outputs": [
        {
          "data": {
            "text/plain": [
              "0    2.750133\n",
              "1    3.199742\n",
              "dtype: float64"
            ]
          },
          "execution_count": 71,
          "metadata": {},
          "output_type": "execute_result"
        }
      ],
      "source": [
        "\n",
        "sub = data[data.socfrend>0]\n",
        "newdata = pd.DataFrame({'inc10k': sub.inc10k.mean(),\n",
        "                        'socfrend': sub.socfrend.mean(),\n",
        "                        'sex': [1, 2]})\n",
        "nb1.predict(newdata)"
      ]
    },
    {
      "cell_type": "markdown",
      "metadata": {
        "id": "hLdyn7BUahEi"
      },
      "source": [
        "Females (3.2) have more poor mental health days than males (2.8), with all else at means. This is not significant according to the model however."
      ]
    },
    {
      "cell_type": "code",
      "execution_count": null,
      "metadata": {
        "colab": {
          "base_uri": "https://localhost:8080/"
        },
        "id": "nt1ZISDbM2MW",
        "outputId": "05b5e6a2-450d-44df-fe7a-ce1e931cdf63"
      },
      "outputs": [
        {
          "data": {
            "text/plain": [
              "0    2.131234\n",
              "1    2.322748\n",
              "2    2.531472\n",
              "3    2.758952\n",
              "4    3.006873\n",
              "5    3.277072\n",
              "6    3.571552\n",
              "dtype: float64"
            ]
          },
          "execution_count": 80,
          "metadata": {},
          "output_type": "execute_result"
        }
      ],
      "source": [
        "newdata2 = pd.DataFrame({'inc10k': sub.inc10k.mean(),\n",
        "                         'sex' : 1,\n",
        "                        'socfrend': [1, 2, 3,4, 5, 6, 7]})\n",
        "nb1.predict(newdata2)"
      ]
    },
    {
      "cell_type": "markdown",
      "metadata": {
        "id": "y32kR-2aax_2"
      },
      "source": [
        "For males with income set at the mean, those who spend the most time with friends (3.6)have more poor mental health days than those who spend the least amount of time with friends (2.1). This is a difference of 1.5 days. As you increase in time spent with friends, all the predicted values also increase, which is contrary to my hypothesis, but it is not a significant increase according to the model."
      ]
    },
    {
      "cell_type": "code",
      "execution_count": null,
      "metadata": {
        "colab": {
          "base_uri": "https://localhost:8080/"
        },
        "id": "fAz28pl8NxHo",
        "outputId": "50e1e279-dbc8-4a79-fd57-ab4f2a951ee7"
      },
      "outputs": [
        {
          "data": {
            "text/plain": [
              "0    2.479662\n",
              "1    2.702486\n",
              "2    2.945333\n",
              "3    3.210003\n",
              "4    3.498456\n",
              "5    3.812829\n",
              "6    4.155452\n",
              "dtype: float64"
            ]
          },
          "execution_count": 81,
          "metadata": {},
          "output_type": "execute_result"
        }
      ],
      "source": [
        "newdata3 = pd.DataFrame({'inc10k': sub.inc10k.mean(),\n",
        "                         'sex' : 2,\n",
        "                        'socfrend': [1, 2, 3,4, 5, 6, 7]})\n",
        "nb1.predict(newdata3)"
      ]
    },
    {
      "cell_type": "markdown",
      "metadata": {
        "id": "TCXGVu2nbhRc"
      },
      "source": [
        "For females with income set at the mean, those who spend the most time with friends (4.2)have more poor mental health days than those who spend the least amount of time with friends (2.5). This is a difference of around 2 days. As you increase in time spent with friends, all the predicted values also increase, which is contrary to my hypothesis, but it is not a significant increase according to the model."
      ]
    },
    {
      "cell_type": "markdown",
      "metadata": {
        "id": "xe-orI3RQLZf"
      },
      "source": [
        "# Conclusion\n"
      ]
    },
    {
      "cell_type": "markdown",
      "metadata": {
        "id": "LPP7tLoTQPU0"
      },
      "source": [
        "Due to the over-dispersed nature of the dependent variable, confirmed by a significant alpha value of the negative binomial model, the negative binomial model is the best model to use as the zero-negative binomial model did not have a lower absolute deviation.\n",
        "\n",
        "Since the negative binomial model is the most appropriate, the coefficients from that model are the most trustworthy. In that model time spent with friends was not a significant predictor of number of poor mental health days. This is surprising as I thought that more time with friends would improve your mental health, resulting in fewer poor mental health days. This is not as big of a factor as I thought it would be when controlling for income and sex.\n",
        "\n",
        "Females were non-significantly different from the males, which is not what I expected.\n",
        "\n",
        "As predicted, higher income was significantly associated with fewer poor mental health days, net of all factors."
      ]
    }
  ],
  "metadata": {
    "colab": {
      "collapsed_sections": [
        "NlGteX9qMeRp",
        "bT3HiuS9MpFp",
        "Cq6ePlXRM48T",
        "YNZ5u-afNEEG"
      ],
      "toc_visible": true,
      "provenance": [],
      "authorship_tag": "ABX9TyMRAgjorcC81kIxRm8P+oTr",
      "include_colab_link": true
    },
    "kernelspec": {
      "display_name": "Python 3",
      "name": "python3"
    },
    "language_info": {
      "name": "python"
    }
  },
  "nbformat": 4,
  "nbformat_minor": 0
}